{
 "cells": [
  {
   "cell_type": "markdown",
   "id": "025b21da-6748-4ea8-b0e8-e8372e753dc6",
   "metadata": {},
   "source": [
    "# META Stock Prices Prediction\n",
    "\n",
    "![META Stock Prices Prediction](meta.jpg)\r\n",
    "\n",
    "# Using LSTM for Stock Price Prediction\n",
    "Once TensorFlow is installed, you can proceed with implementing LSTM for stock price prediction in your Jupyter Notebook. Here’s a summary of the steps\n",
    "\n",
    "## 1. Import Required Libraries\n",
    "Make sure to import necessary libraries including TensorFlow"
   ]
  },
  {
   "cell_type": "code",
   "execution_count": 42,
   "id": "4315293a-dc93-43ac-b2ad-f5d27c77dbb2",
   "metadata": {},
   "outputs": [],
   "source": [
    "import pandas as pd\n",
    "import numpy as np\n",
    "import matplotlib.pyplot as plt\n",
    "from tensorflow.keras.models import Sequential\n",
    "from tensorflow.keras.layers import LSTM, Dense, Dropout\n",
    "from sklearn.preprocessing import MinMaxScaler"
   ]
  },
  {
   "cell_type": "markdown",
   "id": "ddff6698-e702-47c3-b077-48f203ce456e",
   "metadata": {},
   "source": [
    "# 2. Load and Prepare Data\n",
    "Load your dataset into a Pandas DataFrame. For this example, I'll assume you have historical stock price data in a CSV file named stock_data.csv. Adjust the path and columns accordingly based on your dataset."
   ]
  },
  {
   "cell_type": "code",
   "execution_count": 3,
   "id": "ee795a33-75bf-485e-abd7-c7314f9ba4bd",
   "metadata": {},
   "outputs": [],
   "source": [
    "dataset = pd.read_csv('META.csv')"
   ]
  },
  {
   "cell_type": "code",
   "execution_count": 6,
   "id": "78005b95-250f-4d02-bf70-d8bf582faf62",
   "metadata": {},
   "outputs": [
    {
     "data": {
      "text/html": [
       "<div>\n",
       "<style scoped>\n",
       "    .dataframe tbody tr th:only-of-type {\n",
       "        vertical-align: middle;\n",
       "    }\n",
       "\n",
       "    .dataframe tbody tr th {\n",
       "        vertical-align: top;\n",
       "    }\n",
       "\n",
       "    .dataframe thead th {\n",
       "        text-align: right;\n",
       "    }\n",
       "</style>\n",
       "<table border=\"1\" class=\"dataframe\">\n",
       "  <thead>\n",
       "    <tr style=\"text-align: right;\">\n",
       "      <th></th>\n",
       "      <th>Date</th>\n",
       "      <th>Open</th>\n",
       "      <th>High</th>\n",
       "      <th>Low</th>\n",
       "      <th>Close</th>\n",
       "      <th>Adj Close</th>\n",
       "      <th>Volume</th>\n",
       "    </tr>\n",
       "  </thead>\n",
       "  <tbody>\n",
       "    <tr>\n",
       "      <th>0</th>\n",
       "      <td>2020-01-02</td>\n",
       "      <td>206.750000</td>\n",
       "      <td>209.789993</td>\n",
       "      <td>206.270004</td>\n",
       "      <td>209.779999</td>\n",
       "      <td>209.557648</td>\n",
       "      <td>12077100</td>\n",
       "    </tr>\n",
       "    <tr>\n",
       "      <th>1</th>\n",
       "      <td>2020-01-03</td>\n",
       "      <td>207.210007</td>\n",
       "      <td>210.399994</td>\n",
       "      <td>206.949997</td>\n",
       "      <td>208.669998</td>\n",
       "      <td>208.448837</td>\n",
       "      <td>11188400</td>\n",
       "    </tr>\n",
       "    <tr>\n",
       "      <th>2</th>\n",
       "      <td>2020-01-06</td>\n",
       "      <td>206.699997</td>\n",
       "      <td>212.779999</td>\n",
       "      <td>206.520004</td>\n",
       "      <td>212.600006</td>\n",
       "      <td>212.374680</td>\n",
       "      <td>17058900</td>\n",
       "    </tr>\n",
       "    <tr>\n",
       "      <th>3</th>\n",
       "      <td>2020-01-07</td>\n",
       "      <td>212.820007</td>\n",
       "      <td>214.580002</td>\n",
       "      <td>211.750000</td>\n",
       "      <td>213.059998</td>\n",
       "      <td>212.834183</td>\n",
       "      <td>14912400</td>\n",
       "    </tr>\n",
       "    <tr>\n",
       "      <th>4</th>\n",
       "      <td>2020-01-08</td>\n",
       "      <td>213.000000</td>\n",
       "      <td>216.240005</td>\n",
       "      <td>212.610001</td>\n",
       "      <td>215.220001</td>\n",
       "      <td>214.991898</td>\n",
       "      <td>13475000</td>\n",
       "    </tr>\n",
       "  </tbody>\n",
       "</table>\n",
       "</div>"
      ],
      "text/plain": [
       "         Date        Open        High         Low       Close   Adj Close  \\\n",
       "0  2020-01-02  206.750000  209.789993  206.270004  209.779999  209.557648   \n",
       "1  2020-01-03  207.210007  210.399994  206.949997  208.669998  208.448837   \n",
       "2  2020-01-06  206.699997  212.779999  206.520004  212.600006  212.374680   \n",
       "3  2020-01-07  212.820007  214.580002  211.750000  213.059998  212.834183   \n",
       "4  2020-01-08  213.000000  216.240005  212.610001  215.220001  214.991898   \n",
       "\n",
       "     Volume  \n",
       "0  12077100  \n",
       "1  11188400  \n",
       "2  17058900  \n",
       "3  14912400  \n",
       "4  13475000  "
      ]
     },
     "execution_count": 6,
     "metadata": {},
     "output_type": "execute_result"
    }
   ],
   "source": [
    "dataset.head()"
   ]
  },
  {
   "cell_type": "code",
   "execution_count": 5,
   "id": "de5fc8c2-eead-4a64-bf72-25791ea2e1d9",
   "metadata": {},
   "outputs": [
    {
     "data": {
      "text/html": [
       "<div>\n",
       "<style scoped>\n",
       "    .dataframe tbody tr th:only-of-type {\n",
       "        vertical-align: middle;\n",
       "    }\n",
       "\n",
       "    .dataframe tbody tr th {\n",
       "        vertical-align: top;\n",
       "    }\n",
       "\n",
       "    .dataframe thead th {\n",
       "        text-align: right;\n",
       "    }\n",
       "</style>\n",
       "<table border=\"1\" class=\"dataframe\">\n",
       "  <thead>\n",
       "    <tr style=\"text-align: right;\">\n",
       "      <th></th>\n",
       "      <th>Date</th>\n",
       "      <th>Open</th>\n",
       "      <th>High</th>\n",
       "      <th>Low</th>\n",
       "      <th>Close</th>\n",
       "      <th>Adj Close</th>\n",
       "      <th>Volume</th>\n",
       "    </tr>\n",
       "  </thead>\n",
       "  <tbody>\n",
       "    <tr>\n",
       "      <th>1084</th>\n",
       "      <td>2024-04-24</td>\n",
       "      <td>508.059998</td>\n",
       "      <td>510.000000</td>\n",
       "      <td>484.579987</td>\n",
       "      <td>493.500000</td>\n",
       "      <td>493.500000</td>\n",
       "      <td>37772700</td>\n",
       "    </tr>\n",
       "    <tr>\n",
       "      <th>1085</th>\n",
       "      <td>2024-04-25</td>\n",
       "      <td>421.399994</td>\n",
       "      <td>445.769989</td>\n",
       "      <td>414.500000</td>\n",
       "      <td>441.380005</td>\n",
       "      <td>441.380005</td>\n",
       "      <td>82890700</td>\n",
       "    </tr>\n",
       "    <tr>\n",
       "      <th>1086</th>\n",
       "      <td>2024-04-26</td>\n",
       "      <td>441.459991</td>\n",
       "      <td>446.440002</td>\n",
       "      <td>431.959991</td>\n",
       "      <td>443.290009</td>\n",
       "      <td>443.290009</td>\n",
       "      <td>32691400</td>\n",
       "    </tr>\n",
       "    <tr>\n",
       "      <th>1087</th>\n",
       "      <td>2024-04-29</td>\n",
       "      <td>439.559998</td>\n",
       "      <td>439.760010</td>\n",
       "      <td>428.559998</td>\n",
       "      <td>432.619995</td>\n",
       "      <td>432.619995</td>\n",
       "      <td>21502600</td>\n",
       "    </tr>\n",
       "    <tr>\n",
       "      <th>1088</th>\n",
       "      <td>2024-04-30</td>\n",
       "      <td>431.049988</td>\n",
       "      <td>439.619995</td>\n",
       "      <td>429.720001</td>\n",
       "      <td>430.170013</td>\n",
       "      <td>430.170013</td>\n",
       "      <td>18429500</td>\n",
       "    </tr>\n",
       "  </tbody>\n",
       "</table>\n",
       "</div>"
      ],
      "text/plain": [
       "            Date        Open        High         Low       Close   Adj Close  \\\n",
       "1084  2024-04-24  508.059998  510.000000  484.579987  493.500000  493.500000   \n",
       "1085  2024-04-25  421.399994  445.769989  414.500000  441.380005  441.380005   \n",
       "1086  2024-04-26  441.459991  446.440002  431.959991  443.290009  443.290009   \n",
       "1087  2024-04-29  439.559998  439.760010  428.559998  432.619995  432.619995   \n",
       "1088  2024-04-30  431.049988  439.619995  429.720001  430.170013  430.170013   \n",
       "\n",
       "        Volume  \n",
       "1084  37772700  \n",
       "1085  82890700  \n",
       "1086  32691400  \n",
       "1087  21502600  \n",
       "1088  18429500  "
      ]
     },
     "execution_count": 5,
     "metadata": {},
     "output_type": "execute_result"
    }
   ],
   "source": [
    "dataset.tail()"
   ]
  },
  {
   "cell_type": "code",
   "execution_count": 24,
   "id": "c055b1ff-6569-4247-b861-bf43ea3a8001",
   "metadata": {},
   "outputs": [
    {
     "name": "stdout",
     "output_type": "stream",
     "text": [
      "Row count: 1089\n",
      "Column count: 7\n"
     ]
    }
   ],
   "source": [
    "for i, dim in enumerate(['Row', 'Column']):\n",
    "    print(f\"{dim} count: {dataset.shape[i]}\")"
   ]
  },
  {
   "cell_type": "code",
   "execution_count": 26,
   "id": "7498864e-afb2-4094-b931-1440756f8ec4",
   "metadata": {},
   "outputs": [
    {
     "name": "stdout",
     "output_type": "stream",
     "text": [
      "<class 'pandas.core.frame.DataFrame'>\n",
      "RangeIndex: 1089 entries, 0 to 1088\n",
      "Data columns (total 7 columns):\n",
      " #   Column     Non-Null Count  Dtype  \n",
      "---  ------     --------------  -----  \n",
      " 0   Date       1089 non-null   object \n",
      " 1   Open       1089 non-null   float64\n",
      " 2   High       1089 non-null   float64\n",
      " 3   Low        1089 non-null   float64\n",
      " 4   Close      1089 non-null   float64\n",
      " 5   Adj Close  1089 non-null   float64\n",
      " 6   Volume     1089 non-null   int64  \n",
      "dtypes: float64(5), int64(1), object(1)\n",
      "memory usage: 59.7+ KB\n"
     ]
    }
   ],
   "source": [
    "dataset.info()"
   ]
  },
  {
   "cell_type": "code",
   "execution_count": 28,
   "id": "ab91281e-7a57-40ea-b287-49f14e39b4b0",
   "metadata": {},
   "outputs": [
    {
     "data": {
      "text/html": [
       "<div>\n",
       "<style scoped>\n",
       "    .dataframe tbody tr th:only-of-type {\n",
       "        vertical-align: middle;\n",
       "    }\n",
       "\n",
       "    .dataframe tbody tr th {\n",
       "        vertical-align: top;\n",
       "    }\n",
       "\n",
       "    .dataframe thead th {\n",
       "        text-align: right;\n",
       "    }\n",
       "</style>\n",
       "<table border=\"1\" class=\"dataframe\">\n",
       "  <thead>\n",
       "    <tr style=\"text-align: right;\">\n",
       "      <th></th>\n",
       "      <th>Open</th>\n",
       "      <th>High</th>\n",
       "      <th>Low</th>\n",
       "      <th>Close</th>\n",
       "      <th>Adj Close</th>\n",
       "      <th>Volume</th>\n",
       "    </tr>\n",
       "  </thead>\n",
       "  <tbody>\n",
       "    <tr>\n",
       "      <th>count</th>\n",
       "      <td>1089.000000</td>\n",
       "      <td>1089.000000</td>\n",
       "      <td>1089.000000</td>\n",
       "      <td>1089.000000</td>\n",
       "      <td>1089.000000</td>\n",
       "      <td>1.089000e+03</td>\n",
       "    </tr>\n",
       "    <tr>\n",
       "      <th>mean</th>\n",
       "      <td>265.106492</td>\n",
       "      <td>269.017264</td>\n",
       "      <td>261.475758</td>\n",
       "      <td>265.279651</td>\n",
       "      <td>265.021994</td>\n",
       "      <td>2.474032e+07</td>\n",
       "    </tr>\n",
       "    <tr>\n",
       "      <th>std</th>\n",
       "      <td>89.310933</td>\n",
       "      <td>89.910210</td>\n",
       "      <td>88.447719</td>\n",
       "      <td>89.178666</td>\n",
       "      <td>89.144503</td>\n",
       "      <td>1.618508e+07</td>\n",
       "    </tr>\n",
       "    <tr>\n",
       "      <th>min</th>\n",
       "      <td>90.080002</td>\n",
       "      <td>90.459999</td>\n",
       "      <td>88.089996</td>\n",
       "      <td>88.910004</td>\n",
       "      <td>88.815765</td>\n",
       "      <td>5.467500e+06</td>\n",
       "    </tr>\n",
       "    <tr>\n",
       "      <th>25%</th>\n",
       "      <td>200.149994</td>\n",
       "      <td>203.500000</td>\n",
       "      <td>195.490005</td>\n",
       "      <td>198.860001</td>\n",
       "      <td>198.649231</td>\n",
       "      <td>1.590590e+07</td>\n",
       "    </tr>\n",
       "    <tr>\n",
       "      <th>50%</th>\n",
       "      <td>267.170013</td>\n",
       "      <td>270.320007</td>\n",
       "      <td>263.600006</td>\n",
       "      <td>266.630005</td>\n",
       "      <td>266.347412</td>\n",
       "      <td>2.084450e+07</td>\n",
       "    </tr>\n",
       "    <tr>\n",
       "      <th>75%</th>\n",
       "      <td>323.529999</td>\n",
       "      <td>328.000000</td>\n",
       "      <td>319.459991</td>\n",
       "      <td>324.170013</td>\n",
       "      <td>323.826416</td>\n",
       "      <td>2.861860e+07</td>\n",
       "    </tr>\n",
       "    <tr>\n",
       "      <th>max</th>\n",
       "      <td>529.280029</td>\n",
       "      <td>531.489990</td>\n",
       "      <td>518.890015</td>\n",
       "      <td>527.340027</td>\n",
       "      <td>527.340027</td>\n",
       "      <td>2.323166e+08</td>\n",
       "    </tr>\n",
       "  </tbody>\n",
       "</table>\n",
       "</div>"
      ],
      "text/plain": [
       "              Open         High          Low        Close    Adj Close  \\\n",
       "count  1089.000000  1089.000000  1089.000000  1089.000000  1089.000000   \n",
       "mean    265.106492   269.017264   261.475758   265.279651   265.021994   \n",
       "std      89.310933    89.910210    88.447719    89.178666    89.144503   \n",
       "min      90.080002    90.459999    88.089996    88.910004    88.815765   \n",
       "25%     200.149994   203.500000   195.490005   198.860001   198.649231   \n",
       "50%     267.170013   270.320007   263.600006   266.630005   266.347412   \n",
       "75%     323.529999   328.000000   319.459991   324.170013   323.826416   \n",
       "max     529.280029   531.489990   518.890015   527.340027   527.340027   \n",
       "\n",
       "             Volume  \n",
       "count  1.089000e+03  \n",
       "mean   2.474032e+07  \n",
       "std    1.618508e+07  \n",
       "min    5.467500e+06  \n",
       "25%    1.590590e+07  \n",
       "50%    2.084450e+07  \n",
       "75%    2.861860e+07  \n",
       "max    2.323166e+08  "
      ]
     },
     "execution_count": 28,
     "metadata": {},
     "output_type": "execute_result"
    }
   ],
   "source": [
    "dataset.describe()"
   ]
  },
  {
   "cell_type": "code",
   "execution_count": 35,
   "id": "b60d5614-fc26-4368-9974-10cfd2648c3c",
   "metadata": {},
   "outputs": [
    {
     "data": {
      "text/plain": [
       "['Date', 'Open', 'High', 'Low', 'Close', 'Adj Close', 'Volume']"
      ]
     },
     "execution_count": 35,
     "metadata": {},
     "output_type": "execute_result"
    }
   ],
   "source": [
    "dataset.columns.tolist()"
   ]
  },
  {
   "cell_type": "code",
   "execution_count": 36,
   "id": "1702064b-dc05-48c3-b664-d1494c1727df",
   "metadata": {},
   "outputs": [
    {
     "data": {
      "text/plain": [
       "Date         0\n",
       "Open         0\n",
       "High         0\n",
       "Low          0\n",
       "Close        0\n",
       "Adj Close    0\n",
       "Volume       0\n",
       "dtype: int64"
      ]
     },
     "execution_count": 36,
     "metadata": {},
     "output_type": "execute_result"
    }
   ],
   "source": [
    "dataset.isna().sum()"
   ]
  },
  {
   "cell_type": "code",
   "execution_count": 37,
   "id": "f19349ab-0bbf-46df-9720-11d914d8d6e1",
   "metadata": {},
   "outputs": [
    {
     "data": {
      "text/html": [
       "<div>\n",
       "<style scoped>\n",
       "    .dataframe tbody tr th:only-of-type {\n",
       "        vertical-align: middle;\n",
       "    }\n",
       "\n",
       "    .dataframe tbody tr th {\n",
       "        vertical-align: top;\n",
       "    }\n",
       "\n",
       "    .dataframe thead th {\n",
       "        text-align: right;\n",
       "    }\n",
       "</style>\n",
       "<table border=\"1\" class=\"dataframe\">\n",
       "  <thead>\n",
       "    <tr style=\"text-align: right;\">\n",
       "      <th></th>\n",
       "      <th>Date</th>\n",
       "      <th>Open</th>\n",
       "      <th>High</th>\n",
       "      <th>Low</th>\n",
       "      <th>Close</th>\n",
       "      <th>Adj Close</th>\n",
       "      <th>Volume</th>\n",
       "    </tr>\n",
       "  </thead>\n",
       "  <tbody>\n",
       "    <tr>\n",
       "      <th>0</th>\n",
       "      <td>2020-01-02</td>\n",
       "      <td>206.750000</td>\n",
       "      <td>209.789993</td>\n",
       "      <td>206.270004</td>\n",
       "      <td>209.779999</td>\n",
       "      <td>209.557648</td>\n",
       "      <td>12077100</td>\n",
       "    </tr>\n",
       "    <tr>\n",
       "      <th>1</th>\n",
       "      <td>2020-01-03</td>\n",
       "      <td>207.210007</td>\n",
       "      <td>210.399994</td>\n",
       "      <td>206.949997</td>\n",
       "      <td>208.669998</td>\n",
       "      <td>208.448837</td>\n",
       "      <td>11188400</td>\n",
       "    </tr>\n",
       "    <tr>\n",
       "      <th>2</th>\n",
       "      <td>2020-01-06</td>\n",
       "      <td>206.699997</td>\n",
       "      <td>212.779999</td>\n",
       "      <td>206.520004</td>\n",
       "      <td>212.600006</td>\n",
       "      <td>212.374680</td>\n",
       "      <td>17058900</td>\n",
       "    </tr>\n",
       "    <tr>\n",
       "      <th>3</th>\n",
       "      <td>2020-01-07</td>\n",
       "      <td>212.820007</td>\n",
       "      <td>214.580002</td>\n",
       "      <td>211.750000</td>\n",
       "      <td>213.059998</td>\n",
       "      <td>212.834183</td>\n",
       "      <td>14912400</td>\n",
       "    </tr>\n",
       "    <tr>\n",
       "      <th>4</th>\n",
       "      <td>2020-01-08</td>\n",
       "      <td>213.000000</td>\n",
       "      <td>216.240005</td>\n",
       "      <td>212.610001</td>\n",
       "      <td>215.220001</td>\n",
       "      <td>214.991898</td>\n",
       "      <td>13475000</td>\n",
       "    </tr>\n",
       "  </tbody>\n",
       "</table>\n",
       "</div>"
      ],
      "text/plain": [
       "         Date        Open        High         Low       Close   Adj Close  \\\n",
       "0  2020-01-02  206.750000  209.789993  206.270004  209.779999  209.557648   \n",
       "1  2020-01-03  207.210007  210.399994  206.949997  208.669998  208.448837   \n",
       "2  2020-01-06  206.699997  212.779999  206.520004  212.600006  212.374680   \n",
       "3  2020-01-07  212.820007  214.580002  211.750000  213.059998  212.834183   \n",
       "4  2020-01-08  213.000000  216.240005  212.610001  215.220001  214.991898   \n",
       "\n",
       "     Volume  \n",
       "0  12077100  \n",
       "1  11188400  \n",
       "2  17058900  \n",
       "3  14912400  \n",
       "4  13475000  "
      ]
     },
     "execution_count": 37,
     "metadata": {},
     "output_type": "execute_result"
    }
   ],
   "source": [
    "dataset.head()"
   ]
  },
  {
   "cell_type": "markdown",
   "id": "6c06868a-2237-4f5a-aafd-4d4185c150cf",
   "metadata": {},
   "source": [
    "# 3. Preprocess Data\n",
    "Prepare the data for training the LSTM model.\n",
    "\n",
    "- Convert the 'Date' column to datetime format.\n",
    "- Sort the dataset by date if it's not already sorted.\n",
    "- Normalize the 'Close' price data using MinMaxScaler for better model performance."
   ]
  },
  {
   "cell_type": "code",
   "execution_count": 43,
   "id": "37149f01-379f-410c-bb42-01b3de610191",
   "metadata": {},
   "outputs": [],
   "source": [
    "# Convert Date column to datetime\n",
    "dataset['Date'] = pd.to_datetime(dataset['Date'])\n",
    "\n",
    "# Sort by Date\n",
    "dataset = dataset.sort_values('Date')\n",
    "\n",
    "# Use only 'Close' price for prediction\n",
    "data = dataset['Close'].values.reshape(-1, 1)\n",
    "\n",
    "# Normalize the dataset\n",
    "scaler = MinMaxScaler(feature_range=(0, 1))\n",
    "scaled_data = scaler.fit_transform(data)"
   ]
  },
  {
   "cell_type": "markdown",
   "id": "e832ce17-3724-47b5-9867-b4b3579eb3c0",
   "metadata": {},
   "source": [
    "# 4. Create Sequences for LSTM\n",
    "Define a function to create sequences for LSTM training\n",
    "\n",
    "create_sequences(data, seq_length) \n",
    "Converts the time series data into sequences suitable for LSTM training."
   ]
  },
  {
   "cell_type": "code",
   "execution_count": 45,
   "id": "0c783c2a-0b7b-4978-b21d-3659869f7968",
   "metadata": {},
   "outputs": [],
   "source": [
    "def create_sequences(data, seq_length):\n",
    "    xs, ys = [], []\n",
    "    for i in range(len(data)-seq_length-1):\n",
    "        x = data[i:(i+seq_length), 0]\n",
    "        y = data[i+seq_length, 0]\n",
    "        xs.append(x)\n",
    "        ys.append(y)\n",
    "    return np.array(xs), np.array(ys)\n",
    "\n",
    "# Define sequence length (e.g., use 10 previous days to predict next day)\n",
    "sequence_length = 10\n",
    "X, y = create_sequences(scaled_data, sequence_length)\n"
   ]
  },
  {
   "cell_type": "markdown",
   "id": "0d54103c-b339-4ad7-9c9b-f0780f23a93f",
   "metadata": {},
   "source": [
    "# 5. Split Data into Training and Testing Sets\n",
    "Split the data into training and testing sets. Use, for example, the first 80% of data for training and the remaining 20% for testing."
   ]
  },
  {
   "cell_type": "code",
   "execution_count": 46,
   "id": "f9035507-4caf-41d2-ba22-685af0e34534",
   "metadata": {},
   "outputs": [],
   "source": [
    "train_size = int(len(X) * 0.8)\n",
    "test_size = len(X) - train_size\n",
    "\n",
    "X_train, X_test = X[0:train_size], X[train_size:len(X)]\n",
    "y_train, y_test = y[0:train_size], y[train_size:len(y)]"
   ]
  },
  {
   "cell_type": "markdown",
   "id": "8a0a14a5-7712-4132-8c17-d80423643f8e",
   "metadata": {},
   "source": [
    "# 6. Build LSTM Model\n",
    "Define and compile the LSTM model using Keras\n",
    "\n",
    "- Use Sequential() to create the model.\n",
    "- Add LSTM layers with return_sequences=True for stacked LSTM layers.\n",
    "- Add Dense layers for output."
   ]
  },
  {
   "cell_type": "code",
   "execution_count": 47,
   "id": "9a8bbab7-3d27-49d2-90b7-15e10f9cec2f",
   "metadata": {},
   "outputs": [
    {
     "name": "stderr",
     "output_type": "stream",
     "text": [
      "C:\\Users\\Arsalan Khatri\\anaconda3\\Lib\\site-packages\\keras\\src\\layers\\rnn\\rnn.py:204: UserWarning: Do not pass an `input_shape`/`input_dim` argument to a layer. When using Sequential models, prefer using an `Input(shape)` object as the first layer in the model instead.\n",
      "  super().__init__(**kwargs)\n"
     ]
    }
   ],
   "source": [
    "model = Sequential()\n",
    "model.add(LSTM(units=50, return_sequences=True, input_shape=(sequence_length, 1)))\n",
    "model.add(LSTM(units=50))\n",
    "model.add(Dense(units=1))\n",
    "\n",
    "model.compile(optimizer='adam', loss='mean_squared_error')"
   ]
  },
  {
   "cell_type": "markdown",
   "id": "fddaecb4-f826-4ab2-a5f2-11502818c8f0",
   "metadata": {},
   "source": [
    "# 7. Train the Model\n",
    "Train the LSTM model on the training data."
   ]
  },
  {
   "cell_type": "code",
   "execution_count": 48,
   "id": "9c64805a-64e1-4e48-8c11-2e773414eba7",
   "metadata": {},
   "outputs": [
    {
     "name": "stdout",
     "output_type": "stream",
     "text": [
      "Epoch 1/50\n",
      "\u001b[1m27/27\u001b[0m \u001b[32m━━━━━━━━━━━━━━━━━━━━\u001b[0m\u001b[37m\u001b[0m \u001b[1m4s\u001b[0m 8ms/step - loss: 0.0598\n",
      "Epoch 2/50\n",
      "\u001b[1m27/27\u001b[0m \u001b[32m━━━━━━━━━━━━━━━━━━━━\u001b[0m\u001b[37m\u001b[0m \u001b[1m0s\u001b[0m 8ms/step - loss: 0.0032\n",
      "Epoch 3/50\n",
      "\u001b[1m27/27\u001b[0m \u001b[32m━━━━━━━━━━━━━━━━━━━━\u001b[0m\u001b[37m\u001b[0m \u001b[1m0s\u001b[0m 8ms/step - loss: 0.0010\n",
      "Epoch 4/50\n",
      "\u001b[1m27/27\u001b[0m \u001b[32m━━━━━━━━━━━━━━━━━━━━\u001b[0m\u001b[37m\u001b[0m \u001b[1m0s\u001b[0m 8ms/step - loss: 8.1500e-04\n",
      "Epoch 5/50\n",
      "\u001b[1m27/27\u001b[0m \u001b[32m━━━━━━━━━━━━━━━━━━━━\u001b[0m\u001b[37m\u001b[0m \u001b[1m0s\u001b[0m 8ms/step - loss: 9.1961e-04\n",
      "Epoch 6/50\n",
      "\u001b[1m27/27\u001b[0m \u001b[32m━━━━━━━━━━━━━━━━━━━━\u001b[0m\u001b[37m\u001b[0m \u001b[1m0s\u001b[0m 9ms/step - loss: 8.3663e-04\n",
      "Epoch 7/50\n",
      "\u001b[1m27/27\u001b[0m \u001b[32m━━━━━━━━━━━━━━━━━━━━\u001b[0m\u001b[37m\u001b[0m \u001b[1m0s\u001b[0m 8ms/step - loss: 8.4674e-04\n",
      "Epoch 8/50\n",
      "\u001b[1m27/27\u001b[0m \u001b[32m━━━━━━━━━━━━━━━━━━━━\u001b[0m\u001b[37m\u001b[0m \u001b[1m0s\u001b[0m 7ms/step - loss: 8.0742e-04\n",
      "Epoch 9/50\n",
      "\u001b[1m27/27\u001b[0m \u001b[32m━━━━━━━━━━━━━━━━━━━━\u001b[0m\u001b[37m\u001b[0m \u001b[1m0s\u001b[0m 7ms/step - loss: 8.9443e-04\n",
      "Epoch 10/50\n",
      "\u001b[1m27/27\u001b[0m \u001b[32m━━━━━━━━━━━━━━━━━━━━\u001b[0m\u001b[37m\u001b[0m \u001b[1m0s\u001b[0m 7ms/step - loss: 9.6212e-04\n",
      "Epoch 11/50\n",
      "\u001b[1m27/27\u001b[0m \u001b[32m━━━━━━━━━━━━━━━━━━━━\u001b[0m\u001b[37m\u001b[0m \u001b[1m0s\u001b[0m 8ms/step - loss: 8.8394e-04\n",
      "Epoch 12/50\n",
      "\u001b[1m27/27\u001b[0m \u001b[32m━━━━━━━━━━━━━━━━━━━━\u001b[0m\u001b[37m\u001b[0m \u001b[1m0s\u001b[0m 7ms/step - loss: 9.8715e-04\n",
      "Epoch 13/50\n",
      "\u001b[1m27/27\u001b[0m \u001b[32m━━━━━━━━━━━━━━━━━━━━\u001b[0m\u001b[37m\u001b[0m \u001b[1m0s\u001b[0m 7ms/step - loss: 8.2683e-04\n",
      "Epoch 14/50\n",
      "\u001b[1m27/27\u001b[0m \u001b[32m━━━━━━━━━━━━━━━━━━━━\u001b[0m\u001b[37m\u001b[0m \u001b[1m0s\u001b[0m 7ms/step - loss: 8.8313e-04\n",
      "Epoch 15/50\n",
      "\u001b[1m27/27\u001b[0m \u001b[32m━━━━━━━━━━━━━━━━━━━━\u001b[0m\u001b[37m\u001b[0m \u001b[1m0s\u001b[0m 7ms/step - loss: 7.5152e-04\n",
      "Epoch 16/50\n",
      "\u001b[1m27/27\u001b[0m \u001b[32m━━━━━━━━━━━━━━━━━━━━\u001b[0m\u001b[37m\u001b[0m \u001b[1m0s\u001b[0m 7ms/step - loss: 9.0510e-04\n",
      "Epoch 17/50\n",
      "\u001b[1m27/27\u001b[0m \u001b[32m━━━━━━━━━━━━━━━━━━━━\u001b[0m\u001b[37m\u001b[0m \u001b[1m0s\u001b[0m 7ms/step - loss: 7.9887e-04\n",
      "Epoch 18/50\n",
      "\u001b[1m27/27\u001b[0m \u001b[32m━━━━━━━━━━━━━━━━━━━━\u001b[0m\u001b[37m\u001b[0m \u001b[1m0s\u001b[0m 9ms/step - loss: 8.0195e-04 \n",
      "Epoch 19/50\n",
      "\u001b[1m27/27\u001b[0m \u001b[32m━━━━━━━━━━━━━━━━━━━━\u001b[0m\u001b[37m\u001b[0m \u001b[1m0s\u001b[0m 7ms/step - loss: 8.6475e-04\n",
      "Epoch 20/50\n",
      "\u001b[1m27/27\u001b[0m \u001b[32m━━━━━━━━━━━━━━━━━━━━\u001b[0m\u001b[37m\u001b[0m \u001b[1m0s\u001b[0m 7ms/step - loss: 8.4011e-04\n",
      "Epoch 21/50\n",
      "\u001b[1m27/27\u001b[0m \u001b[32m━━━━━━━━━━━━━━━━━━━━\u001b[0m\u001b[37m\u001b[0m \u001b[1m0s\u001b[0m 8ms/step - loss: 7.8390e-04\n",
      "Epoch 22/50\n",
      "\u001b[1m27/27\u001b[0m \u001b[32m━━━━━━━━━━━━━━━━━━━━\u001b[0m\u001b[37m\u001b[0m \u001b[1m0s\u001b[0m 7ms/step - loss: 7.8273e-04\n",
      "Epoch 23/50\n",
      "\u001b[1m27/27\u001b[0m \u001b[32m━━━━━━━━━━━━━━━━━━━━\u001b[0m\u001b[37m\u001b[0m \u001b[1m0s\u001b[0m 7ms/step - loss: 8.2694e-04\n",
      "Epoch 24/50\n",
      "\u001b[1m27/27\u001b[0m \u001b[32m━━━━━━━━━━━━━━━━━━━━\u001b[0m\u001b[37m\u001b[0m \u001b[1m0s\u001b[0m 7ms/step - loss: 6.6610e-04\n",
      "Epoch 25/50\n",
      "\u001b[1m27/27\u001b[0m \u001b[32m━━━━━━━━━━━━━━━━━━━━\u001b[0m\u001b[37m\u001b[0m \u001b[1m0s\u001b[0m 7ms/step - loss: 8.2582e-04\n",
      "Epoch 26/50\n",
      "\u001b[1m27/27\u001b[0m \u001b[32m━━━━━━━━━━━━━━━━━━━━\u001b[0m\u001b[37m\u001b[0m \u001b[1m0s\u001b[0m 7ms/step - loss: 7.9178e-04\n",
      "Epoch 27/50\n",
      "\u001b[1m27/27\u001b[0m \u001b[32m━━━━━━━━━━━━━━━━━━━━\u001b[0m\u001b[37m\u001b[0m \u001b[1m0s\u001b[0m 7ms/step - loss: 8.1866e-04\n",
      "Epoch 28/50\n",
      "\u001b[1m27/27\u001b[0m \u001b[32m━━━━━━━━━━━━━━━━━━━━\u001b[0m\u001b[37m\u001b[0m \u001b[1m0s\u001b[0m 7ms/step - loss: 8.0868e-04\n",
      "Epoch 29/50\n",
      "\u001b[1m27/27\u001b[0m \u001b[32m━━━━━━━━━━━━━━━━━━━━\u001b[0m\u001b[37m\u001b[0m \u001b[1m0s\u001b[0m 9ms/step - loss: 6.9972e-04\n",
      "Epoch 30/50\n",
      "\u001b[1m27/27\u001b[0m \u001b[32m━━━━━━━━━━━━━━━━━━━━\u001b[0m\u001b[37m\u001b[0m \u001b[1m0s\u001b[0m 7ms/step - loss: 6.1918e-04\n",
      "Epoch 31/50\n",
      "\u001b[1m27/27\u001b[0m \u001b[32m━━━━━━━━━━━━━━━━━━━━\u001b[0m\u001b[37m\u001b[0m \u001b[1m0s\u001b[0m 7ms/step - loss: 7.6518e-04\n",
      "Epoch 32/50\n",
      "\u001b[1m27/27\u001b[0m \u001b[32m━━━━━━━━━━━━━━━━━━━━\u001b[0m\u001b[37m\u001b[0m \u001b[1m0s\u001b[0m 7ms/step - loss: 7.3204e-04\n",
      "Epoch 33/50\n",
      "\u001b[1m27/27\u001b[0m \u001b[32m━━━━━━━━━━━━━━━━━━━━\u001b[0m\u001b[37m\u001b[0m \u001b[1m0s\u001b[0m 7ms/step - loss: 7.5134e-04\n",
      "Epoch 34/50\n",
      "\u001b[1m27/27\u001b[0m \u001b[32m━━━━━━━━━━━━━━━━━━━━\u001b[0m\u001b[37m\u001b[0m \u001b[1m0s\u001b[0m 7ms/step - loss: 6.4831e-04\n",
      "Epoch 35/50\n",
      "\u001b[1m27/27\u001b[0m \u001b[32m━━━━━━━━━━━━━━━━━━━━\u001b[0m\u001b[37m\u001b[0m \u001b[1m0s\u001b[0m 8ms/step - loss: 6.8964e-04\n",
      "Epoch 36/50\n",
      "\u001b[1m27/27\u001b[0m \u001b[32m━━━━━━━━━━━━━━━━━━━━\u001b[0m\u001b[37m\u001b[0m \u001b[1m0s\u001b[0m 7ms/step - loss: 6.7370e-04\n",
      "Epoch 37/50\n",
      "\u001b[1m27/27\u001b[0m \u001b[32m━━━━━━━━━━━━━━━━━━━━\u001b[0m\u001b[37m\u001b[0m \u001b[1m0s\u001b[0m 7ms/step - loss: 5.3279e-04\n",
      "Epoch 38/50\n",
      "\u001b[1m27/27\u001b[0m \u001b[32m━━━━━━━━━━━━━━━━━━━━\u001b[0m\u001b[37m\u001b[0m \u001b[1m0s\u001b[0m 10ms/step - loss: 6.8302e-04\n",
      "Epoch 39/50\n",
      "\u001b[1m27/27\u001b[0m \u001b[32m━━━━━━━━━━━━━━━━━━━━\u001b[0m\u001b[37m\u001b[0m \u001b[1m0s\u001b[0m 7ms/step - loss: 5.2498e-04\n",
      "Epoch 40/50\n",
      "\u001b[1m27/27\u001b[0m \u001b[32m━━━━━━━━━━━━━━━━━━━━\u001b[0m\u001b[37m\u001b[0m \u001b[1m0s\u001b[0m 7ms/step - loss: 6.4015e-04\n",
      "Epoch 41/50\n",
      "\u001b[1m27/27\u001b[0m \u001b[32m━━━━━━━━━━━━━━━━━━━━\u001b[0m\u001b[37m\u001b[0m \u001b[1m0s\u001b[0m 7ms/step - loss: 6.8082e-04\n",
      "Epoch 42/50\n",
      "\u001b[1m27/27\u001b[0m \u001b[32m━━━━━━━━━━━━━━━━━━━━\u001b[0m\u001b[37m\u001b[0m \u001b[1m0s\u001b[0m 7ms/step - loss: 5.8111e-04\n",
      "Epoch 43/50\n",
      "\u001b[1m27/27\u001b[0m \u001b[32m━━━━━━━━━━━━━━━━━━━━\u001b[0m\u001b[37m\u001b[0m \u001b[1m0s\u001b[0m 7ms/step - loss: 5.5237e-04\n",
      "Epoch 44/50\n",
      "\u001b[1m27/27\u001b[0m \u001b[32m━━━━━━━━━━━━━━━━━━━━\u001b[0m\u001b[37m\u001b[0m \u001b[1m0s\u001b[0m 7ms/step - loss: 5.4680e-04\n",
      "Epoch 45/50\n",
      "\u001b[1m27/27\u001b[0m \u001b[32m━━━━━━━━━━━━━━━━━━━━\u001b[0m\u001b[37m\u001b[0m \u001b[1m0s\u001b[0m 7ms/step - loss: 6.1959e-04\n",
      "Epoch 46/50\n",
      "\u001b[1m27/27\u001b[0m \u001b[32m━━━━━━━━━━━━━━━━━━━━\u001b[0m\u001b[37m\u001b[0m \u001b[1m0s\u001b[0m 8ms/step - loss: 5.1193e-04\n",
      "Epoch 47/50\n",
      "\u001b[1m27/27\u001b[0m \u001b[32m━━━━━━━━━━━━━━━━━━━━\u001b[0m\u001b[37m\u001b[0m \u001b[1m0s\u001b[0m 8ms/step - loss: 5.2172e-04\n",
      "Epoch 48/50\n",
      "\u001b[1m27/27\u001b[0m \u001b[32m━━━━━━━━━━━━━━━━━━━━\u001b[0m\u001b[37m\u001b[0m \u001b[1m0s\u001b[0m 7ms/step - loss: 5.4357e-04\n",
      "Epoch 49/50\n",
      "\u001b[1m27/27\u001b[0m \u001b[32m━━━━━━━━━━━━━━━━━━━━\u001b[0m\u001b[37m\u001b[0m \u001b[1m0s\u001b[0m 7ms/step - loss: 4.7921e-04\n",
      "Epoch 50/50\n",
      "\u001b[1m27/27\u001b[0m \u001b[32m━━━━━━━━━━━━━━━━━━━━\u001b[0m\u001b[37m\u001b[0m \u001b[1m0s\u001b[0m 7ms/step - loss: 6.0154e-04\n"
     ]
    },
    {
     "data": {
      "text/plain": [
       "<keras.src.callbacks.history.History at 0x20a8be1e750>"
      ]
     },
     "execution_count": 48,
     "metadata": {},
     "output_type": "execute_result"
    }
   ],
   "source": [
    "model.fit(X_train, y_train, epochs=50, batch_size=32)"
   ]
  },
  {
   "cell_type": "markdown",
   "id": "8ad9c491-3c8a-4624-8ff9-7c7f3feb4f13",
   "metadata": {},
   "source": [
    "# 8. Evaluate the Model\n",
    "Evaluate the model on the test data to see how well it predicts stock prices."
   ]
  },
  {
   "cell_type": "code",
   "execution_count": 51,
   "id": "ea1a37ab-b63b-40e9-8e65-95ae09b78d1f",
   "metadata": {},
   "outputs": [
    {
     "name": "stdout",
     "output_type": "stream",
     "text": [
      "\u001b[1m7/7\u001b[0m \u001b[32m━━━━━━━━━━━━━━━━━━━━\u001b[0m\u001b[37m\u001b[0m \u001b[1m0s\u001b[0m 5ms/step \n"
     ]
    },
    {
     "data": {
      "image/png": "[encoded data removed]",
      "text/plain": [
       "<Figure size 1400x600 with 1 Axes>"
      ]
     },
     "metadata": {},
     "output_type": "display_data"
    }
   ],
   "source": [
    "predicted_prices = model.predict(X_test)\n",
    "predicted_prices = scaler.inverse_transform(predicted_prices)\n",
    "\n",
    "# Optionally, compare with actual test prices\n",
    "actual_prices = scaler.inverse_transform(y_test.reshape(-1, 1))\n",
    "\n",
    "# Plot the results\n",
    "plt.figure(figsize=(14, 6))\n",
    "plt.plot(actual_prices, label='Actual Prices')\n",
    "plt.plot(predicted_prices, label='Predicted Prices')\n",
    "plt.title('META Stock Prices Prediction')\n",
    "plt.xlabel('Days')\n",
    "plt.ylabel('Price')\n",
    "plt.legend()\n",
    "plt.show()"
   ]
  },
  {
   "cell_type": "markdown",
   "id": "7096005f-58a7-4c48-a90f-51b53a1bf0bc",
   "metadata": {},
   "source": [
    "# Steps to Calculate Model Accuracy"
   ]
  },
  {
   "cell_type": "markdown",
   "id": "462f05a1-0f99-49ae-90cc-d095d32da950",
   "metadata": {},
   "source": [
    "## 1. Predict on Test Data\n",
    "After training your LSTM model, you predict stock prices on the test set."
   ]
  },
  {
   "cell_type": "code",
   "execution_count": 52,
   "id": "2af7e4ec-af54-4167-acf8-7384e13b991d",
   "metadata": {},
   "outputs": [
    {
     "name": "stdout",
     "output_type": "stream",
     "text": [
      "\u001b[1m7/7\u001b[0m \u001b[32m━━━━━━━━━━━━━━━━━━━━\u001b[0m\u001b[37m\u001b[0m \u001b[1m0s\u001b[0m 4ms/step \n"
     ]
    }
   ],
   "source": [
    "# Predict on test set\n",
    "predicted_prices = model.predict(X_test)"
   ]
  },
  {
   "cell_type": "markdown",
   "id": "0b276b36-32c1-4bb8-8db0-f9360f28496d",
   "metadata": {},
   "source": [
    "## 2. Inverse Transform Predictions\n",
    "Since you scaled your data before feeding it into the LSTM model (using MinMaxScaler), you need to inverse transform the predicted prices to get them back to the original scale."
   ]
  },
  {
   "cell_type": "code",
   "execution_count": 53,
   "id": "4cadf9b4-c7b2-4f5e-aa27-464b4c87c0c5",
   "metadata": {},
   "outputs": [],
   "source": [
    "# Inverse transform predictions\n",
    "predicted_prices = scaler.inverse_transform(predicted_prices)"
   ]
  },
  {
   "cell_type": "markdown",
   "id": "168d8854-2193-4da3-a7a6-3dc2b0e82f12",
   "metadata": {},
   "source": [
    "## 3. Calculate Metrics\n",
    "To evaluate the accuracy of your model, you can use various metrics such as Mean Absolute Error (MAE), Mean Squared Error (MSE), and Root Mean Squared Error (RMSE). Here’s an example of calculating RMSE:"
   ]
  },
  {
   "cell_type": "code",
   "execution_count": 54,
   "id": "1aa0c573-2ced-4cb7-99d0-8c30b4fdf879",
   "metadata": {},
   "outputs": [
    {
     "name": "stdout",
     "output_type": "stream",
     "text": [
      "Root Mean Squared Error (RMSE): 14.47719053722832\n"
     ]
    }
   ],
   "source": [
    "from sklearn.metrics import mean_squared_error\n",
    "\n",
    "# Inverse transform actual prices\n",
    "actual_prices = scaler.inverse_transform(y_test.reshape(-1, 1))\n",
    "\n",
    "# Calculate RMSE\n",
    "rmse = np.sqrt(mean_squared_error(actual_prices, predicted_prices))\n",
    "print(f'Root Mean Squared Error (RMSE): {rmse}')"
   ]
  },
  {
   "cell_type": "markdown",
   "id": "c2b412f6-ee15-49e8-937f-89e660ad4164",
   "metadata": {},
   "source": [
    "# Conclusion\n",
    "\n",
    "## Interpretation\n",
    "\n",
    "An RMSE of **14.48** suggests that, on average, your LSTM model's predictions are approximately $14.48 away from the actual stock prices. This value indicates a moderate level of predictive accuracy, but its adequacy depends on the specific requirements and standards of your application.\n",
    "\n",
    "## Continuous Improvement\n",
    "\n",
    "Aim to iteratively improve your model based on performance metrics and domain knowledge. This process may involve refining the model architecture, optimizing hyperparameters, or exploring advanced techniques in time series forecasting.\n",
    "\n",
    "In summary, while an RMSE of **14.48** provides a quantitative measure of prediction error, its evaluation as **\"good\" or \"best\"** should be contextualized within the specific application and its performance requirements. Strive to align your model's accuracy with the practical needs and objectives of your stock price prediction task.\n",
    "\n",
    "\n",
    "\n",
    "\n",
    "\n",
    "\n"
   ]
  },
  {
   "cell_type": "code",
   "execution_count": null,
   "id": "e68ac0cb-1ca4-4f24-a674-024bc088a216",
   "metadata": {},
   "outputs": [],
   "source": []
  }
 ],
 "metadata": {
  "kernelspec": {
   "display_name": "Python 3 (ipykernel)",
   "language": "python",
   "name": "python3"
  },
  "language_info": {
   "codemirror_mode": {
    "name": "ipython",
    "version": 3
   },
   "file_extension": ".py",
   "mimetype": "text/x-python",
   "name": "python",
   "nbconvert_exporter": "python",
   "pygments_lexer": "ipython3",
   "version": "3.11.5"
  }
 },
 "nbformat": 4,
 "nbformat_minor": 5
}
